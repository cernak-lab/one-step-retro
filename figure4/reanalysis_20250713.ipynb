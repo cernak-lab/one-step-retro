{
 "cells": [
  {
   "cell_type": "code",
   "execution_count": 1,
   "id": "3e54b02a",
   "metadata": {},
   "outputs": [],
   "source": [
    "import pandas as pd"
   ]
  },
  {
   "cell_type": "code",
   "execution_count": 2,
   "id": "75be8075",
   "metadata": {},
   "outputs": [],
   "source": [
    "data = pd.read_excel(\"../all_transformations_ch_specialized_20240702_updated.xlsx\")"
   ]
  },
  {
   "cell_type": "code",
   "execution_count": 3,
   "id": "1cfcf620",
   "metadata": {},
   "outputs": [
    {
     "data": {
      "text/plain": [
       "Index(['input_target_molecule_smiles', 'mapped_input_target_molecule_smiles',\n",
       "       'target_substructure_smarts', 'substructure_atom_map',\n",
       "       'disconnection_map', 'synthon_a', 'synthon_a_label', 'synthon_b',\n",
       "       'synthon_b_label', 'synthon_a_building_block_class',\n",
       "       'synthon_a_building_block_label', 'synthon_b_building_block_class',\n",
       "       'synthon_b_building_block_label', 'synthon_a_building_block_smiles',\n",
       "       'synthon_a_building_block_cas', 'synthon_a_building_block_price',\n",
       "       'synthon_a_building_block_material', 'synthon_b_building_block_smiles',\n",
       "       'synthon_b_building_block_cas', 'synthon_b_building_block_price',\n",
       "       'synthon_b_building_block_material', 'benzylic_a', 'alpha_het_a',\n",
       "       'alpha_carbonyl_a', 'benzylic_b', 'alpha_het_b', 'alpha_carbonyl_b',\n",
       "       'bond_formed', 'synth_class_specific_a', 'synth_class_specific_b',\n",
       "       'synth_class_specific_a_updated', 'synth_class_specific_b_updated',\n",
       "       'Unnamed: 32', 'benzylic_a_updated', 'benzylic_b_updated',\n",
       "       'alpha_carbonyl_a_updated', 'alpha_carbonyl_b_updated',\n",
       "       'alpha_het_a_updated', 'alpha_het_b_updated'],\n",
       "      dtype='object')"
      ]
     },
     "execution_count": 3,
     "metadata": {},
     "output_type": "execute_result"
    }
   ],
   "source": [
    "data.columns"
   ]
  },
  {
   "cell_type": "code",
   "execution_count": 4,
   "id": "6cefb497",
   "metadata": {},
   "outputs": [],
   "source": [
    "all_groups = data.groupby(\"bond_formed\")"
   ]
  },
  {
   "cell_type": "code",
   "execution_count": 5,
   "id": "9f939a40",
   "metadata": {},
   "outputs": [
    {
     "name": "stdout",
     "output_type": "stream",
     "text": [
      "alkyl-alkyl-CC\n",
      "alkyl-alkyl-CN\n",
      "alkyl-alkyl-CO\n",
      "alkyl-aryl-Cn\n",
      "aryl-alkyl-cC\n",
      "aryl-alkyl-cN\n",
      "aryl-alkyl-cO\n",
      "aryl-aryl-cc\n",
      "aryl-aryl-cn\n"
     ]
    }
   ],
   "source": [
    "for i, ii in all_groups:\n",
    "    print(i)"
   ]
  },
  {
   "cell_type": "code",
   "execution_count": 6,
   "id": "765d3e70",
   "metadata": {},
   "outputs": [
    {
     "name": "stdout",
     "output_type": "stream",
     "text": [
      "18\n"
     ]
    }
   ],
   "source": [
    "all_lab = list(\n",
    "    set(\n",
    "        data[\"synth_class_specific_a\"].unique().tolist()\n",
    "        + data[\"synth_class_specific_b\"].unique().tolist()\n",
    "    )\n",
    ")\n",
    "print(len(all_lab))\n",
    "\n",
    "all_labs = [\n",
    "    \"alcohol\",\n",
    "    \"boronate\",\n",
    "    \"acid\",\n",
    "    \"amine\",\n",
    "    \"iodide\",\n",
    "    \"bromide\",\n",
    "    \"chloride\",\n",
    "]"
   ]
  },
  {
   "cell_type": "code",
   "execution_count": 7,
   "id": "8564c2b4",
   "metadata": {},
   "outputs": [
    {
     "name": "stdout",
     "output_type": "stream",
     "text": [
      "+------------------+----------------+-----------------------+-------------------+-------------------+-------------------+\n",
      "| building block   | label          |   unique drugs formed |   comm. synthon a |   comm. synthon b |   total reactions |\n",
      "+==================+================+=======================+===================+===================+===================+\n",
      "| alcohol          | alkyl-alkyl-CC |                   865 |               469 |              1552 |              6989 |\n",
      "+------------------+----------------+-----------------------+-------------------+-------------------+-------------------+\n",
      "| boronate         | alkyl-alkyl-CC |                   466 |                41 |               996 |              2426 |\n",
      "+------------------+----------------+-----------------------+-------------------+-------------------+-------------------+\n",
      "| acid             | alkyl-alkyl-CC |                  1191 |               636 |              2218 |              9973 |\n",
      "+------------------+----------------+-----------------------+-------------------+-------------------+-------------------+\n",
      "| amine            | alkyl-alkyl-CC |                   896 |               409 |              1623 |              6827 |\n",
      "+------------------+----------------+-----------------------+-------------------+-------------------+-------------------+\n",
      "| iodide           | alkyl-alkyl-CC |                   476 |                38 |              1025 |              2525 |\n",
      "+------------------+----------------+-----------------------+-------------------+-------------------+-------------------+\n",
      "| bromide          | alkyl-alkyl-CC |                   648 |               173 |              1287 |              4397 |\n",
      "+------------------+----------------+-----------------------+-------------------+-------------------+-------------------+\n",
      "| chloride         | alkyl-alkyl-CC |                   757 |               281 |              1394 |              5126 |\n",
      "+------------------+----------------+-----------------------+-------------------+-------------------+-------------------+\n",
      "| alcohol          | alkyl-aryl-Cc  |                   332 |               136 |               654 |              1690 |\n",
      "+------------------+----------------+-----------------------+-------------------+-------------------+-------------------+\n",
      "| boronate         | alkyl-aryl-Cc  |                    85 |                14 |               295 |               376 |\n",
      "+------------------+----------------+-----------------------+-------------------+-------------------+-------------------+\n",
      "| acid             | alkyl-aryl-Cc  |                   463 |               160 |               846 |              2321 |\n",
      "+------------------+----------------+-----------------------+-------------------+-------------------+-------------------+\n",
      "| amine            | alkyl-aryl-Cc  |                   363 |               143 |               727 |              1827 |\n",
      "+------------------+----------------+-----------------------+-------------------+-------------------+-------------------+\n",
      "| iodide           | alkyl-aryl-Cc  |                   109 |                17 |               349 |               495 |\n",
      "+------------------+----------------+-----------------------+-------------------+-------------------+-------------------+\n",
      "| bromide          | alkyl-aryl-Cc  |                   167 |                53 |               440 |               771 |\n",
      "+------------------+----------------+-----------------------+-------------------+-------------------+-------------------+\n",
      "| chloride         | alkyl-aryl-Cc  |                   223 |                79 |               521 |              1037 |\n",
      "+------------------+----------------+-----------------------+-------------------+-------------------+-------------------+\n",
      "| alcohol          | aryl-alkyl-cC  |                   531 |               162 |               652 |              1738 |\n",
      "+------------------+----------------+-----------------------+-------------------+-------------------+-------------------+\n",
      "| boronate         | aryl-alkyl-cC  |                   402 |                96 |               507 |              1181 |\n",
      "+------------------+----------------+-----------------------+-------------------+-------------------+-------------------+\n",
      "| acid             | aryl-alkyl-cC  |                   536 |               166 |               636 |              1729 |\n",
      "+------------------+----------------+-----------------------+-------------------+-------------------+-------------------+\n",
      "| amine            | aryl-alkyl-cC  |                   522 |               172 |               648 |              1698 |\n",
      "+------------------+----------------+-----------------------+-------------------+-------------------+-------------------+\n",
      "| iodide           | aryl-alkyl-cC  |                    15 |                 5 |                39 |                55 |\n",
      "+------------------+----------------+-----------------------+-------------------+-------------------+-------------------+\n",
      "| bromide          | aryl-alkyl-cC  |                   411 |                97 |               554 |              1307 |\n",
      "+------------------+----------------+-----------------------+-------------------+-------------------+-------------------+\n",
      "| chloride         | aryl-alkyl-cC  |                   539 |               166 |               650 |              1801 |\n",
      "+------------------+----------------+-----------------------+-------------------+-------------------+-------------------+\n",
      "| alcohol          | aryl-aryl-cc   |                   109 |                81 |               332 |               568 |\n",
      "+------------------+----------------+-----------------------+-------------------+-------------------+-------------------+\n",
      "| boronate         | aryl-aryl-cc   |                   103 |                62 |               313 |               471 |\n",
      "+------------------+----------------+-----------------------+-------------------+-------------------+-------------------+\n",
      "| acid             | aryl-aryl-cc   |                   117 |                87 |               390 |               638 |\n",
      "+------------------+----------------+-----------------------+-------------------+-------------------+-------------------+\n",
      "| amine            | aryl-aryl-cc   |                   121 |               104 |               377 |               673 |\n",
      "+------------------+----------------+-----------------------+-------------------+-------------------+-------------------+\n",
      "| iodide           | aryl-aryl-cc   |                     6 |                 2 |                34 |                35 |\n",
      "+------------------+----------------+-----------------------+-------------------+-------------------+-------------------+\n",
      "| bromide          | aryl-aryl-cc   |                    99 |                58 |               341 |               488 |\n",
      "+------------------+----------------+-----------------------+-------------------+-------------------+-------------------+\n",
      "| chloride         | aryl-aryl-cc   |                   121 |                93 |               425 |               681 |\n",
      "+------------------+----------------+-----------------------+-------------------+-------------------+-------------------+\n"
     ]
    }
   ],
   "source": [
    "from rdkit import Chem\n",
    "import tabulate\n",
    "\n",
    "def remove_atom_mapping(x):\n",
    "    mol = Chem.MolFromSmiles(x)\n",
    "    for atom in mol.GetAtoms():\n",
    "        atom.SetAtomMapNum(0)\n",
    "    return Chem.MolToSmiles(mol)\n",
    "\n",
    "\n",
    "table = {\n",
    "    \"building block\": [],\n",
    "    \"label\": [],\n",
    "    \"unique drugs formed\": [],\n",
    "    \"comm. synthon a\": [],\n",
    "    \"comm. synthon b\": [],\n",
    "    \"total reactions\": [],\n",
    "}\n",
    "\n",
    "for ii in [(\"alkyl\", \"alkyl\", \"alkyl-alkyl-CC\"), (\"alkyl\", \"aryl\", \"aryl-alkyl-cC\"), (\"aryl\", \"alkyl\", \"aryl-alkyl-cC\"), (\"aryl\", \"aryl\", \"aryl-aryl-cc\")]:\n",
    "    for i in all_labs:\n",
    "        # print(ii[0], i)\n",
    "        d = data[((data[\"synth_class_specific_a\"] == ii[0] + \" \" + i) | (data[\"synth_class_specific_b\"] == ii[0] + \" \" + i)) & (data[\"bond_formed\"] == ii[2])]\n",
    "        d = d.drop_duplicates()\n",
    "        syn_a, syn_b = set(), set()\n",
    "        for j,k in d.iterrows():\n",
    "            if k[\"synth_class_specific_a\"] == ii[0] + \" \" + i:\n",
    "                sm = remove_atom_mapping(k[\"synthon_a_building_block_smiles\"])\n",
    "                syn_a.add(sm)\n",
    "                sm = remove_atom_mapping(k[\"synthon_b_building_block_smiles\"])\n",
    "                syn_b.add(sm)\n",
    "            elif k[\"synth_class_specific_b\"] == ii[0] + \" \" + i:\n",
    "                sm = remove_atom_mapping(k[\"synthon_b_building_block_smiles\"])\n",
    "                syn_a.add(sm)\n",
    "                sm = remove_atom_mapping(k[\"synthon_a_building_block_smiles\"])\n",
    "                syn_b.add(sm)\n",
    "        \n",
    "        table[\"building block\"].append(i)\n",
    "        if ii[0] == \"alkyl\" and ii[1] == \"aryl\":\n",
    "            table[\"label\"].append(\"alkyl-aryl-Cc\")\n",
    "        else:\n",
    "            table[\"label\"].append(ii[2])\n",
    "        table[\"unique drugs formed\"].append(len(d[\"input_target_molecule_smiles\"].unique()))\n",
    "        table[\"comm. synthon a\"].append(len(syn_a))\n",
    "        table[\"comm. synthon b\"].append(len(syn_b))\n",
    "        table[\"total reactions\"].append(len(d))\n",
    "\n",
    "print(tabulate.tabulate(table, headers=\"keys\", tablefmt=\"grid\"))\n"
   ]
  },
  {
   "cell_type": "code",
   "execution_count": 118,
   "id": "66662034",
   "metadata": {},
   "outputs": [],
   "source": [
    "pd.DataFrame(table).to_excel(\"cross_coupling_table_20250713.xlsx\")"
   ]
  }
 ],
 "metadata": {
  "kernelspec": {
   "display_name": "general",
   "language": "python",
   "name": "python3"
  },
  "language_info": {
   "codemirror_mode": {
    "name": "ipython",
    "version": 3
   },
   "file_extension": ".py",
   "mimetype": "text/x-python",
   "name": "python",
   "nbconvert_exporter": "python",
   "pygments_lexer": "ipython3",
   "version": "3.13.2"
  }
 },
 "nbformat": 4,
 "nbformat_minor": 5
}
